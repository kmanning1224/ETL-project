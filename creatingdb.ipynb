{
 "cells": [
  {
   "cell_type": "code",
   "execution_count": 32,
   "metadata": {},
   "outputs": [],
   "source": [
    "import warnings\n",
    "warnings.filterwarnings('ignore')"
   ]
  },
  {
   "cell_type": "code",
   "execution_count": 33,
   "metadata": {},
   "outputs": [],
   "source": [
    "import pandas as pd\n",
    "import sqlalchemy\n",
    "from sqlalchemy.ext.automap import automap_base\n",
    "from sqlalchemy.orm import Session\n",
    "from sqlalchemy import create_engine\n",
    "from sqlalchemy import func"
   ]
  },
  {
   "cell_type": "code",
   "execution_count": 34,
   "metadata": {},
   "outputs": [
    {
     "data": {
      "text/plain": [
       "Year                 2205\n",
       "Month                2205\n",
       "State                2205\n",
       "County               2205\n",
       "Unemployment_Rate    2205\n",
       "dtype: int64"
      ]
     },
     "execution_count": 34,
     "metadata": {},
     "output_type": "execute_result"
    }
   ],
   "source": [
    "df = pd.read_csv(\"csv/cleaned/fulllist.csv\", encoding=\"UTF-8\")\n",
    "df.count()"
   ]
  },
  {
   "cell_type": "code",
   "execution_count": 35,
   "metadata": {},
   "outputs": [
    {
     "name": "stdout",
     "output_type": "stream",
     "text": [
      "2020-08-27 17:46:39,880 INFO sqlalchemy.engine.base.Engine SELECT CAST('test plain returns' AS VARCHAR(60)) AS anon_1\n",
      "2020-08-27 17:46:39,880 INFO sqlalchemy.engine.base.Engine ()\n",
      "2020-08-27 17:46:39,881 INFO sqlalchemy.engine.base.Engine SELECT CAST('test unicode returns' AS VARCHAR(60)) AS anon_1\n",
      "2020-08-27 17:46:39,882 INFO sqlalchemy.engine.base.Engine ()\n"
     ]
    }
   ],
   "source": [
    "engine = create_engine('sqlite:///save_unemployment.sqlite', echo=True)\n",
    "sqlite_connection = engine.connect()"
   ]
  },
  {
   "cell_type": "code",
   "execution_count": 36,
   "metadata": {},
   "outputs": [
    {
     "name": "stdout",
     "output_type": "stream",
     "text": [
      "2020-08-27 17:46:41,098 INFO sqlalchemy.engine.base.Engine PRAGMA main.table_info(\"Unemployment_ALL\")\n",
      "2020-08-27 17:46:41,098 INFO sqlalchemy.engine.base.Engine ()\n",
      "2020-08-27 17:46:41,100 INFO sqlalchemy.engine.base.Engine PRAGMA temp.table_info(\"Unemployment_ALL\")\n",
      "2020-08-27 17:46:41,100 INFO sqlalchemy.engine.base.Engine ()\n",
      "2020-08-27 17:46:41,103 INFO sqlalchemy.engine.base.Engine \n",
      "CREATE TABLE \"Unemployment_ALL\" (\n",
      "\t\"index\" BIGINT, \n",
      "\t\"Year \" BIGINT, \n",
      "\t\"Month\" TEXT, \n",
      "\t\"State\" TEXT, \n",
      "\t\"County\" TEXT, \n",
      "\t\"Unemployment_Rate\" FLOAT\n",
      ")\n",
      "\n",
      "\n",
      "2020-08-27 17:46:41,103 INFO sqlalchemy.engine.base.Engine ()\n",
      "2020-08-27 17:46:41,111 INFO sqlalchemy.engine.base.Engine COMMIT\n",
      "2020-08-27 17:46:41,112 INFO sqlalchemy.engine.base.Engine CREATE INDEX \"ix_Unemployment_ALL_index\" ON \"Unemployment_ALL\" (\"index\")\n",
      "2020-08-27 17:46:41,113 INFO sqlalchemy.engine.base.Engine ()\n",
      "2020-08-27 17:46:41,118 INFO sqlalchemy.engine.base.Engine COMMIT\n",
      "2020-08-27 17:46:41,121 INFO sqlalchemy.engine.base.Engine BEGIN (implicit)\n",
      "2020-08-27 17:46:41,133 INFO sqlalchemy.engine.base.Engine INSERT INTO \"Unemployment_ALL\" (\"index\", \"Year \", \"Month\", \"State\", \"County\", \"Unemployment_Rate\") VALUES (?, ?, ?, ?, ?, ?)\n",
      "2020-08-27 17:46:41,133 INFO sqlalchemy.engine.base.Engine ((0, 2020, 'June', 'CA', 'Alameda County', 13.5), (1, 2020, 'June', 'CA', 'Alpine County', 18.9), (2, 2020, 'June', 'CA', 'Amador County', 12.7), (3, 2020, 'June', 'CA', 'Butte County', 12.2), (4, 2020, 'June', 'CA', 'Calaveras County', 11.0), (5, 2020, 'June', 'CA', 'Colusa County', 18.4), (6, 2020, 'June', 'CA', 'Contra Costa County', 13.4), (7, 2020, 'June', 'CA', 'Del Norte County', 12.5)  ... displaying 10 of 2205 total bound parameter sets ...  (2203, 2020, 'June', 'NY', 'Queens County', 21.8), (2204, 2020, 'June', 'NY', 'Bronx County', 24.7))\n",
      "2020-08-27 17:46:41,140 INFO sqlalchemy.engine.base.Engine COMMIT\n",
      "2020-08-27 17:46:41,146 INFO sqlalchemy.engine.base.Engine SELECT name FROM sqlite_master WHERE type='table' ORDER BY name\n",
      "2020-08-27 17:46:41,146 INFO sqlalchemy.engine.base.Engine ()\n"
     ]
    }
   ],
   "source": [
    "sqlite_table = \"Unemployment_ALL\"\n",
    "df.to_sql(sqlite_table, sqlite_connection, if_exists='fail')"
   ]
  },
  {
   "cell_type": "code",
   "execution_count": 46,
   "metadata": {},
   "outputs": [],
   "source": [
    "sqlite_connection.close()"
   ]
  },
  {
   "cell_type": "code",
   "execution_count": null,
   "metadata": {},
   "outputs": [],
   "source": []
  },
  {
   "cell_type": "code",
   "execution_count": null,
   "metadata": {},
   "outputs": [],
   "source": []
  },
  {
   "cell_type": "code",
   "execution_count": null,
   "metadata": {},
   "outputs": [],
   "source": []
  },
  {
   "cell_type": "code",
   "execution_count": null,
   "metadata": {},
   "outputs": [],
   "source": []
  },
  {
   "cell_type": "code",
   "execution_count": null,
   "metadata": {},
   "outputs": [],
   "source": []
  },
  {
   "cell_type": "code",
   "execution_count": null,
   "metadata": {},
   "outputs": [],
   "source": []
  }
 ],
 "metadata": {
  "kernelspec": {
   "display_name": "Python 3",
   "language": "python",
   "name": "python3"
  },
  "language_info": {
   "codemirror_mode": {
    "name": "ipython",
    "version": 3
   },
   "file_extension": ".py",
   "mimetype": "text/x-python",
   "name": "python",
   "nbconvert_exporter": "python",
   "pygments_lexer": "ipython3",
   "version": "3.7.6"
  }
 },
 "nbformat": 4,
 "nbformat_minor": 4
}
